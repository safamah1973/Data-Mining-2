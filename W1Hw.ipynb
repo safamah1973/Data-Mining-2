{
  "nbformat": 4,
  "nbformat_minor": 0,
  "metadata": {
    "colab": {
      "provenance": [],
      "authorship_tag": "ABX9TyO1/joVbVXu909znilghukv",
      "include_colab_link": true
    },
    "kernelspec": {
      "name": "python3",
      "display_name": "Python 3"
    },
    "language_info": {
      "name": "python"
    }
  },
  "cells": [
    {
      "cell_type": "markdown",
      "metadata": {
        "id": "view-in-github",
        "colab_type": "text"
      },
      "source": [
        "<a href=\"https://colab.research.google.com/github/safamah1973/Data-Mining-2/blob/main/W1Hw.ipynb\" target=\"_parent\"><img src=\"https://colab.research.google.com/assets/colab-badge.svg\" alt=\"Open In Colab\"/></a>"
      ]
    },
    {
      "cell_type": "code",
      "execution_count": null,
      "metadata": {
        "id": "mADKwzS-BEI5"
      },
      "outputs": [],
      "source": []
    },
    {
      "cell_type": "markdown",
      "source": [
        "Fundamental Python:\n",
        "\n",
        "\n",
        "*   Basic Math\n",
        "*   Booleans & Variable Assignment\n",
        "*   Functions\n",
        "*   Strings\n",
        "\n"
      ],
      "metadata": {
        "id": "LpMlpbdaFHUc"
      }
    },
    {
      "cell_type": "code",
      "source": [
        "# Basic arithmetic operation\n",
        "\n",
        "a =10\n",
        "b =5\n",
        "sum=a+b\n",
        "difference=a-b\n",
        "product=a*b\n",
        "division=a/b\n",
        "\n",
        "print(\"Sum:\",sum)\n",
        "print(\"Difference:\",difference)\n",
        "print(\"Product:\",product)\n",
        "print(\"Division:\",division)"
      ],
      "metadata": {
        "colab": {
          "base_uri": "https://localhost:8080/",
          "height": 0
        },
        "id": "3o30_QwsF7aC",
        "outputId": "a5df5763-d48e-4142-cef4-5f719a9abe63"
      },
      "execution_count": 3,
      "outputs": [
        {
          "output_type": "stream",
          "name": "stdout",
          "text": [
            "Sum: 15\n",
            "Difference: 5\n",
            "Product: 50\n",
            "Division: 2.0\n"
          ]
        }
      ]
    },
    {
      "cell_type": "code",
      "source": [
        "print(f\"The sum of the two numbers {a},{b}is{sum}\")"
      ],
      "metadata": {
        "colab": {
          "base_uri": "https://localhost:8080/",
          "height": 0
        },
        "id": "AdNk2JPAJzTE",
        "outputId": "b73fa299-cb0c-4f2c-ab27-de07fbeb313a"
      },
      "execution_count": 12,
      "outputs": [
        {
          "output_type": "stream",
          "name": "stdout",
          "text": [
            "The sum of the two numbers 10,5is15\n"
          ]
        }
      ]
    },
    {
      "cell_type": "code",
      "source": [
        "x=13//2\n",
        "print(x)\n",
        "y=13%2\n",
        "print(y)"
      ],
      "metadata": {
        "colab": {
          "base_uri": "https://localhost:8080/",
          "height": 0
        },
        "id": "ypUATDI8NSAH",
        "outputId": "e1c1addd-4847-493c-b6fe-236e740c42b8"
      },
      "execution_count": 13,
      "outputs": [
        {
          "output_type": "stream",
          "name": "stdout",
          "text": [
            "6\n",
            "1\n"
          ]
        }
      ]
    },
    {
      "cell_type": "code",
      "source": [
        "#Boolean variables and comparisons\n",
        "x=10\n",
        "y=5\n",
        "\n",
        "is_greater=x >y\n",
        "is_equal=x==y\n",
        "is_not_equal=x!=y\n",
        "\n",
        "print(\"is x greater than y?\",is_greater)\n",
        "print(\"is x equal y?\",is_equal)\n",
        "print(\"is x not equal to y?\",is_not_equal)\n"
      ],
      "metadata": {
        "colab": {
          "base_uri": "https://localhost:8080/",
          "height": 0
        },
        "id": "ygbMiMfqOQR6",
        "outputId": "14cb23ba-1149-4f94-ad27-af9a17baa937"
      },
      "execution_count": 14,
      "outputs": [
        {
          "output_type": "stream",
          "name": "stdout",
          "text": [
            "is x greater than y? True\n",
            "is x equal y? False\n",
            "is x not equal to y? True\n"
          ]
        }
      ]
    },
    {
      "cell_type": "code",
      "source": [
        "#Variable assignment\n",
        "name=\"Alaa\"\n",
        "age=55\n",
        "is_professor=True\n",
        "\n",
        "print(f\"{name}'s age is {age}.He is a Professor is {is_professor}\")"
      ],
      "metadata": {
        "colab": {
          "base_uri": "https://localhost:8080/"
        },
        "id": "DQod0KtdusFE",
        "outputId": "103973f3-dcc9-4ef3-ce15-43eff8584fd2"
      },
      "execution_count": 33,
      "outputs": [
        {
          "output_type": "stream",
          "name": "stdout",
          "text": [
            "Alaa's age is 55.He is a Professor is True\n"
          ]
        }
      ]
    },
    {
      "cell_type": "code",
      "source": [
        "#Defining and using a function\n",
        "def greet(name):\n",
        " return \"Hello,\" + name +\"!\"\n",
        "\n",
        "my_name=input(\"Enter your name:\")\n",
        "greet(my_name)"
      ],
      "metadata": {
        "colab": {
          "base_uri": "https://localhost:8080/",
          "height": 55
        },
        "id": "exBRhIeEv3l-",
        "outputId": "3cd2941a-3d80-421c-f6e4-0de3cc08f700"
      },
      "execution_count": 37,
      "outputs": [
        {
          "name": "stdout",
          "output_type": "stream",
          "text": [
            "Enter your name:Alaa\n"
          ]
        },
        {
          "output_type": "execute_result",
          "data": {
            "text/plain": [
              "'Hello,Alaa!'"
            ],
            "application/vnd.google.colaboratory.intrinsic+json": {
              "type": "string"
            }
          },
          "metadata": {},
          "execution_count": 37
        }
      ]
    },
    {
      "cell_type": "code",
      "source": [
        "def add_numbers(a,b):\n",
        " return a+b\n",
        "\n",
        "a= int(input(\"Enter first number:\"))\n",
        "b= int(input(\"Enter second number\"))\n",
        "\n",
        "addition_value=add_numbers(a,b)\n",
        "print(f\"The result of addition for{a},{b}is{addition_value}\")"
      ],
      "metadata": {
        "colab": {
          "base_uri": "https://localhost:8080/"
        },
        "id": "X1MPhU25xI0q",
        "outputId": "fe90518f-f0e7-4f68-bda1-4f35a9e1deb1"
      },
      "execution_count": 42,
      "outputs": [
        {
          "output_type": "stream",
          "name": "stdout",
          "text": [
            "Enter first number:2\n",
            "Enter second number3\n",
            "The result of addition for2,3is5\n"
          ]
        }
      ]
    },
    {
      "cell_type": "code",
      "source": [
        "def add_numbers(a,b):\n",
        " return a+b\n",
        "\n",
        "a= eval(input(\"Enter first number:\"))\n",
        "b= eval(input(\"Enter second number\"))\n",
        "\n",
        "addition_value=add_numbers(a,b)\n",
        "print(f\"The result of addition for{a},{b}is{addition_value}\")"
      ],
      "metadata": {
        "colab": {
          "base_uri": "https://localhost:8080/"
        },
        "id": "lCjyY1u-Yudb",
        "outputId": "9d68e2ed-7178-49d6-803b-bca64631acd3"
      },
      "execution_count": 20,
      "outputs": [
        {
          "output_type": "stream",
          "name": "stdout",
          "text": [
            "Enter first number:2.34\n",
            "Enter second number5.67\n",
            "The result of addition for2.34,5.67is8.01\n"
          ]
        }
      ]
    },
    {
      "cell_type": "code",
      "source": [
        "#Working with strings\n",
        "message = \"Hello, World\"\n",
        "length = len(message)\n",
        "uppercase = message.upper()\n",
        "lowercase = message.lower()\n",
        "substring =message[7:12]\n",
        "\n",
        "print(\"Original message:\",message)\n",
        "print(\"The length is:\",length)\n",
        "print(\"Upper case:\",uppercase)\n",
        "print(\"Lower case:\",lowercase)\n",
        "print(\"Part of the message is:\",substring)\n"
      ],
      "metadata": {
        "colab": {
          "base_uri": "https://localhost:8080/"
        },
        "id": "3vhpTXW3aYm0",
        "outputId": "088a35f3-0576-42e1-b68a-527cf6422ddf"
      },
      "execution_count": 24,
      "outputs": [
        {
          "output_type": "stream",
          "name": "stdout",
          "text": [
            "Original message: Hello, World\n",
            "The length is: 12\n",
            "Upper case: HELLO, WORLD\n",
            "Lower case: hello, world\n",
            "Part of the message is: World\n"
          ]
        }
      ]
    },
    {
      "cell_type": "markdown",
      "source": [
        "**Some examples on the use of th input ommand in python**"
      ],
      "metadata": {
        "id": "QwTAcpWQfVBU"
      }
    },
    {
      "cell_type": "code",
      "source": [
        "#Basic input example\n",
        "Last=input(\"Enter the last name,last name:\")\n",
        "First=input(\"Enter the last name, first name\")\n",
        "\n",
        "print(f\"{Last},{First}\")"
      ],
      "metadata": {
        "colab": {
          "base_uri": "https://localhost:8080/"
        },
        "id": "Sq_fG3RRnBeS",
        "outputId": "6f7ec312-9d8a-4e25-d5e7-65f7f1af4bd0"
      },
      "execution_count": 34,
      "outputs": [
        {
          "output_type": "stream",
          "name": "stdout",
          "text": [
            "Enter the last name,last name:Sheta\n",
            "Enter the last name, first nameAlaa\n",
            "Sheta,Alaa\n"
          ]
        }
      ]
    },
    {
      "cell_type": "code",
      "source": [
        "#Numeric input example\n",
        "age=int(input(\"Enter your age:\"))\n",
        "print(\"You will be\",age+1,\"years old next year.\")"
      ],
      "metadata": {
        "colab": {
          "base_uri": "https://localhost:8080/"
        },
        "id": "TOjhM6Lkprf-",
        "outputId": "2b1a8162-0bbd-489c-855d-ba209a62b457"
      },
      "execution_count": 35,
      "outputs": [
        {
          "output_type": "stream",
          "name": "stdout",
          "text": [
            "Enter your age:55\n",
            "You will be 56 years old next year.\n"
          ]
        }
      ]
    },
    {
      "cell_type": "code",
      "source": [
        "#Calculations with input\n",
        "num1=float(input(\"Enter a number:\"))\n",
        "num2=float(input(\"Enter another number:\"))\n",
        "sum_result=num1 + num2\n",
        "print(\"Sum:\",sum_result)"
      ],
      "metadata": {
        "colab": {
          "base_uri": "https://localhost:8080/"
        },
        "id": "-VjVTQncrWhS",
        "outputId": "65782350-a2e8-47fa-d1f5-e5aa38c80075"
      },
      "execution_count": 36,
      "outputs": [
        {
          "output_type": "stream",
          "name": "stdout",
          "text": [
            "Enter a number:12\n",
            "Enter another number:14\n",
            "Sum: 26.0\n"
          ]
        }
      ]
    },
    {
      "cell_type": "code",
      "source": [
        "#String concatenation with input\n",
        "city=input(\"Enter your city:\")\n",
        "country=input(\"Enter your country:\")\n",
        "location=city+\",\"+country\n",
        "print(\"You are in:\",location)"
      ],
      "metadata": {
        "colab": {
          "base_uri": "https://localhost:8080/"
        },
        "id": "W5v3JQTct4Bj",
        "outputId": "51d978f6-bde9-44e7-f0a3-a8c7dce3fc38"
      },
      "execution_count": 38,
      "outputs": [
        {
          "output_type": "stream",
          "name": "stdout",
          "text": [
            "Enter your city:New Haven\n",
            "Enter your country:USA\n",
            "You are in: New Haven,USA\n"
          ]
        }
      ]
    },
    {
      "cell_type": "code",
      "source": [
        "#Multiple inputs\n",
        "name,age=input(\"Enter your name and age sperated by space:\").split()\n",
        "print(f\"my name is{name}and my age is {age}\")"
      ],
      "metadata": {
        "colab": {
          "base_uri": "https://localhost:8080/"
        },
        "id": "4SVfNR3jwvDR",
        "outputId": "35b5e60b-fd56-4ebb-df07-bea1b01e8f5b"
      },
      "execution_count": 41,
      "outputs": [
        {
          "output_type": "stream",
          "name": "stdout",
          "text": [
            "Enter your name and age sperated by space:Alaa 55\n",
            "my name isAlaaand my age is 55\n"
          ]
        }
      ]
    }
  ]
}